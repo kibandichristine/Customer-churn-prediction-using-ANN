{
 "cells": [
  {
   "cell_type": "markdown",
   "metadata": {},
   "source": [
    "# Customer Churn Prediction Using Artificial Neural Network (ANN)\n",
    "\n",
    "\n",
    "\n",
    "### **Business Understanding**\n",
    "\n",
    "**Project Title**: Neural Network for Binary Classification\n",
    "\n",
    "**Business Problem**:\n",
    "\n",
    "In many industries, predictive models are employed to classify data into two categories, such as determining whether a customer will churn or predicting whether an email is spam or not. The objective of this project is to build and evaluate a neural network model that can be applied to real-world binary classification problems, such as customer behavior prediction, fraud detection, or medical diagnosis.\n",
    "\n",
    "**Use Case**:\n",
    "\n",
    "The neural network model is designed to take a set of features (input variables) and classify them into one of two classes. For example, this model could be used to:\n",
    "- Predict whether a customer will purchase a product (yes/no).\n",
    "- Determine if an email is spam or not.\n",
    "- Identify if a medical test result is positive or negative.\n",
    "\n",
    "**Data**:\n",
    "\n",
    "We use historical data with 26 input features that help make the binary classification. The data set is divided into training and testing sets to evaluate the model's performance.\n",
    "\n",
    "---\n",
    "\n",
    "### **Objective**\n",
    "\n",
    "The primary objective of this project is to build and train a neural network model to classify input data into two categories (binary classification). The model will be trained using a training dataset and validated using a validation set to monitor its performance across multiple epochs.\n",
    "\n",
    "**Specific Goals**:\n",
    "\n",
    "1. **Model Architecture**: Design and build a neural network with one hidden layer.\n",
    "2. **Model Training**: Train the model on the training data, using binary cross-entropy as the loss function and accuracy as the evaluation metric.\n",
    "3. **Model Evaluation**: Use the validation data to track the model’s performance during training (via accuracy and loss).\n",
    "4. **Visualization**: Visualize the  data to understand how its structured."
   ]
  },
  {
   "cell_type": "code",
   "execution_count": 1,
   "metadata": {},
   "outputs": [],
   "source": [
    "#import necessary libraries\n",
    "import pandas as pd\n",
    "import numpy as np\n",
    "import matplotlib.pyplot as plt\n",
    "import seaborn as sns\n",
    "from sklearn.preprocessing import MinMaxScaler\n",
    "import warnings\n",
    "\n",
    "warnings.filterwarnings(\"ignore\")\n"
   ]
  },
  {
   "cell_type": "code",
   "execution_count": 2,
   "metadata": {},
   "outputs": [
    {
     "data": {
      "text/html": [
       "<div>\n",
       "<style scoped>\n",
       "    .dataframe tbody tr th:only-of-type {\n",
       "        vertical-align: middle;\n",
       "    }\n",
       "\n",
       "    .dataframe tbody tr th {\n",
       "        vertical-align: top;\n",
       "    }\n",
       "\n",
       "    .dataframe thead th {\n",
       "        text-align: right;\n",
       "    }\n",
       "</style>\n",
       "<table border=\"1\" class=\"dataframe\">\n",
       "  <thead>\n",
       "    <tr style=\"text-align: right;\">\n",
       "      <th></th>\n",
       "      <th>customerID</th>\n",
       "      <th>gender</th>\n",
       "      <th>SeniorCitizen</th>\n",
       "      <th>Partner</th>\n",
       "      <th>Dependents</th>\n",
       "      <th>tenure</th>\n",
       "      <th>PhoneService</th>\n",
       "      <th>MultipleLines</th>\n",
       "      <th>InternetService</th>\n",
       "      <th>OnlineSecurity</th>\n",
       "      <th>...</th>\n",
       "      <th>DeviceProtection</th>\n",
       "      <th>TechSupport</th>\n",
       "      <th>StreamingTV</th>\n",
       "      <th>StreamingMovies</th>\n",
       "      <th>Contract</th>\n",
       "      <th>PaperlessBilling</th>\n",
       "      <th>PaymentMethod</th>\n",
       "      <th>MonthlyCharges</th>\n",
       "      <th>TotalCharges</th>\n",
       "      <th>Churn</th>\n",
       "    </tr>\n",
       "  </thead>\n",
       "  <tbody>\n",
       "    <tr>\n",
       "      <th>0</th>\n",
       "      <td>7590-VHVEG</td>\n",
       "      <td>Female</td>\n",
       "      <td>0</td>\n",
       "      <td>Yes</td>\n",
       "      <td>No</td>\n",
       "      <td>1</td>\n",
       "      <td>No</td>\n",
       "      <td>No phone service</td>\n",
       "      <td>DSL</td>\n",
       "      <td>No</td>\n",
       "      <td>...</td>\n",
       "      <td>No</td>\n",
       "      <td>No</td>\n",
       "      <td>No</td>\n",
       "      <td>No</td>\n",
       "      <td>Month-to-month</td>\n",
       "      <td>Yes</td>\n",
       "      <td>Electronic check</td>\n",
       "      <td>29.85</td>\n",
       "      <td>29.85</td>\n",
       "      <td>No</td>\n",
       "    </tr>\n",
       "    <tr>\n",
       "      <th>1</th>\n",
       "      <td>5575-GNVDE</td>\n",
       "      <td>Male</td>\n",
       "      <td>0</td>\n",
       "      <td>No</td>\n",
       "      <td>No</td>\n",
       "      <td>34</td>\n",
       "      <td>Yes</td>\n",
       "      <td>No</td>\n",
       "      <td>DSL</td>\n",
       "      <td>Yes</td>\n",
       "      <td>...</td>\n",
       "      <td>Yes</td>\n",
       "      <td>No</td>\n",
       "      <td>No</td>\n",
       "      <td>No</td>\n",
       "      <td>One year</td>\n",
       "      <td>No</td>\n",
       "      <td>Mailed check</td>\n",
       "      <td>56.95</td>\n",
       "      <td>1889.5</td>\n",
       "      <td>No</td>\n",
       "    </tr>\n",
       "    <tr>\n",
       "      <th>2</th>\n",
       "      <td>3668-QPYBK</td>\n",
       "      <td>Male</td>\n",
       "      <td>0</td>\n",
       "      <td>No</td>\n",
       "      <td>No</td>\n",
       "      <td>2</td>\n",
       "      <td>Yes</td>\n",
       "      <td>No</td>\n",
       "      <td>DSL</td>\n",
       "      <td>Yes</td>\n",
       "      <td>...</td>\n",
       "      <td>No</td>\n",
       "      <td>No</td>\n",
       "      <td>No</td>\n",
       "      <td>No</td>\n",
       "      <td>Month-to-month</td>\n",
       "      <td>Yes</td>\n",
       "      <td>Mailed check</td>\n",
       "      <td>53.85</td>\n",
       "      <td>108.15</td>\n",
       "      <td>Yes</td>\n",
       "    </tr>\n",
       "  </tbody>\n",
       "</table>\n",
       "<p>3 rows × 21 columns</p>\n",
       "</div>"
      ],
      "text/plain": [
       "   customerID  gender  SeniorCitizen Partner Dependents  tenure PhoneService  \\\n",
       "0  7590-VHVEG  Female              0     Yes         No       1           No   \n",
       "1  5575-GNVDE    Male              0      No         No      34          Yes   \n",
       "2  3668-QPYBK    Male              0      No         No       2          Yes   \n",
       "\n",
       "      MultipleLines InternetService OnlineSecurity  ... DeviceProtection  \\\n",
       "0  No phone service             DSL             No  ...               No   \n",
       "1                No             DSL            Yes  ...              Yes   \n",
       "2                No             DSL            Yes  ...               No   \n",
       "\n",
       "  TechSupport StreamingTV StreamingMovies        Contract PaperlessBilling  \\\n",
       "0          No          No              No  Month-to-month              Yes   \n",
       "1          No          No              No        One year               No   \n",
       "2          No          No              No  Month-to-month              Yes   \n",
       "\n",
       "      PaymentMethod MonthlyCharges  TotalCharges Churn  \n",
       "0  Electronic check          29.85         29.85    No  \n",
       "1      Mailed check          56.95        1889.5    No  \n",
       "2      Mailed check          53.85        108.15   Yes  \n",
       "\n",
       "[3 rows x 21 columns]"
      ]
     },
     "execution_count": 2,
     "metadata": {},
     "output_type": "execute_result"
    }
   ],
   "source": [
    "# load dataset and display the first 3 rows\n",
    "df= pd.read_csv('WA_Fn-UseC_-Telco-Customer-Churn.csv')\n",
    "df.head(3)"
   ]
  },
  {
   "cell_type": "code",
   "execution_count": 3,
   "metadata": {},
   "outputs": [],
   "source": [
    "# drop customerID column as it is of no use\n",
    "df.drop('customerID', axis='columns', inplace=True)"
   ]
  },
  {
   "cell_type": "code",
   "execution_count": 4,
   "metadata": {},
   "outputs": [
    {
     "name": "stdout",
     "output_type": "stream",
     "text": [
      "<class 'pandas.core.frame.DataFrame'>\n",
      "RangeIndex: 7043 entries, 0 to 7042\n",
      "Data columns (total 20 columns):\n",
      " #   Column            Non-Null Count  Dtype  \n",
      "---  ------            --------------  -----  \n",
      " 0   gender            7043 non-null   object \n",
      " 1   SeniorCitizen     7043 non-null   int64  \n",
      " 2   Partner           7043 non-null   object \n",
      " 3   Dependents        7043 non-null   object \n",
      " 4   tenure            7043 non-null   int64  \n",
      " 5   PhoneService      7043 non-null   object \n",
      " 6   MultipleLines     7043 non-null   object \n",
      " 7   InternetService   7043 non-null   object \n",
      " 8   OnlineSecurity    7043 non-null   object \n",
      " 9   OnlineBackup      7043 non-null   object \n",
      " 10  DeviceProtection  7043 non-null   object \n",
      " 11  TechSupport       7043 non-null   object \n",
      " 12  StreamingTV       7043 non-null   object \n",
      " 13  StreamingMovies   7043 non-null   object \n",
      " 14  Contract          7043 non-null   object \n",
      " 15  PaperlessBilling  7043 non-null   object \n",
      " 16  PaymentMethod     7043 non-null   object \n",
      " 17  MonthlyCharges    7043 non-null   float64\n",
      " 18  TotalCharges      7043 non-null   object \n",
      " 19  Churn             7043 non-null   object \n",
      "dtypes: float64(1), int64(2), object(17)\n",
      "memory usage: 1.1+ MB\n"
     ]
    }
   ],
   "source": [
    "# get the structure and information of the dataset\n",
    "df.info()"
   ]
  },
  {
   "cell_type": "code",
   "execution_count": 5,
   "metadata": {},
   "outputs": [
    {
     "data": {
      "text/html": [
       "<div>\n",
       "<style scoped>\n",
       "    .dataframe tbody tr th:only-of-type {\n",
       "        vertical-align: middle;\n",
       "    }\n",
       "\n",
       "    .dataframe tbody tr th {\n",
       "        vertical-align: top;\n",
       "    }\n",
       "\n",
       "    .dataframe thead th {\n",
       "        text-align: right;\n",
       "    }\n",
       "</style>\n",
       "<table border=\"1\" class=\"dataframe\">\n",
       "  <thead>\n",
       "    <tr style=\"text-align: right;\">\n",
       "      <th></th>\n",
       "      <th>gender</th>\n",
       "      <th>SeniorCitizen</th>\n",
       "      <th>Partner</th>\n",
       "      <th>Dependents</th>\n",
       "      <th>tenure</th>\n",
       "      <th>PhoneService</th>\n",
       "      <th>MultipleLines</th>\n",
       "      <th>InternetService</th>\n",
       "      <th>OnlineSecurity</th>\n",
       "      <th>OnlineBackup</th>\n",
       "      <th>DeviceProtection</th>\n",
       "      <th>TechSupport</th>\n",
       "      <th>StreamingTV</th>\n",
       "      <th>StreamingMovies</th>\n",
       "      <th>Contract</th>\n",
       "      <th>PaperlessBilling</th>\n",
       "      <th>PaymentMethod</th>\n",
       "      <th>MonthlyCharges</th>\n",
       "      <th>TotalCharges</th>\n",
       "      <th>Churn</th>\n",
       "    </tr>\n",
       "  </thead>\n",
       "  <tbody>\n",
       "    <tr>\n",
       "      <th>488</th>\n",
       "      <td>Female</td>\n",
       "      <td>0</td>\n",
       "      <td>Yes</td>\n",
       "      <td>Yes</td>\n",
       "      <td>0</td>\n",
       "      <td>No</td>\n",
       "      <td>No phone service</td>\n",
       "      <td>DSL</td>\n",
       "      <td>Yes</td>\n",
       "      <td>No</td>\n",
       "      <td>Yes</td>\n",
       "      <td>Yes</td>\n",
       "      <td>Yes</td>\n",
       "      <td>No</td>\n",
       "      <td>Two year</td>\n",
       "      <td>Yes</td>\n",
       "      <td>Bank transfer (automatic)</td>\n",
       "      <td>52.55</td>\n",
       "      <td></td>\n",
       "      <td>No</td>\n",
       "    </tr>\n",
       "    <tr>\n",
       "      <th>753</th>\n",
       "      <td>Male</td>\n",
       "      <td>0</td>\n",
       "      <td>No</td>\n",
       "      <td>Yes</td>\n",
       "      <td>0</td>\n",
       "      <td>Yes</td>\n",
       "      <td>No</td>\n",
       "      <td>No</td>\n",
       "      <td>No internet service</td>\n",
       "      <td>No internet service</td>\n",
       "      <td>No internet service</td>\n",
       "      <td>No internet service</td>\n",
       "      <td>No internet service</td>\n",
       "      <td>No internet service</td>\n",
       "      <td>Two year</td>\n",
       "      <td>No</td>\n",
       "      <td>Mailed check</td>\n",
       "      <td>20.25</td>\n",
       "      <td></td>\n",
       "      <td>No</td>\n",
       "    </tr>\n",
       "    <tr>\n",
       "      <th>936</th>\n",
       "      <td>Female</td>\n",
       "      <td>0</td>\n",
       "      <td>Yes</td>\n",
       "      <td>Yes</td>\n",
       "      <td>0</td>\n",
       "      <td>Yes</td>\n",
       "      <td>No</td>\n",
       "      <td>DSL</td>\n",
       "      <td>Yes</td>\n",
       "      <td>Yes</td>\n",
       "      <td>Yes</td>\n",
       "      <td>No</td>\n",
       "      <td>Yes</td>\n",
       "      <td>Yes</td>\n",
       "      <td>Two year</td>\n",
       "      <td>No</td>\n",
       "      <td>Mailed check</td>\n",
       "      <td>80.85</td>\n",
       "      <td></td>\n",
       "      <td>No</td>\n",
       "    </tr>\n",
       "    <tr>\n",
       "      <th>1082</th>\n",
       "      <td>Male</td>\n",
       "      <td>0</td>\n",
       "      <td>Yes</td>\n",
       "      <td>Yes</td>\n",
       "      <td>0</td>\n",
       "      <td>Yes</td>\n",
       "      <td>Yes</td>\n",
       "      <td>No</td>\n",
       "      <td>No internet service</td>\n",
       "      <td>No internet service</td>\n",
       "      <td>No internet service</td>\n",
       "      <td>No internet service</td>\n",
       "      <td>No internet service</td>\n",
       "      <td>No internet service</td>\n",
       "      <td>Two year</td>\n",
       "      <td>No</td>\n",
       "      <td>Mailed check</td>\n",
       "      <td>25.75</td>\n",
       "      <td></td>\n",
       "      <td>No</td>\n",
       "    </tr>\n",
       "    <tr>\n",
       "      <th>1340</th>\n",
       "      <td>Female</td>\n",
       "      <td>0</td>\n",
       "      <td>Yes</td>\n",
       "      <td>Yes</td>\n",
       "      <td>0</td>\n",
       "      <td>No</td>\n",
       "      <td>No phone service</td>\n",
       "      <td>DSL</td>\n",
       "      <td>Yes</td>\n",
       "      <td>Yes</td>\n",
       "      <td>Yes</td>\n",
       "      <td>Yes</td>\n",
       "      <td>Yes</td>\n",
       "      <td>No</td>\n",
       "      <td>Two year</td>\n",
       "      <td>No</td>\n",
       "      <td>Credit card (automatic)</td>\n",
       "      <td>56.05</td>\n",
       "      <td></td>\n",
       "      <td>No</td>\n",
       "    </tr>\n",
       "    <tr>\n",
       "      <th>3331</th>\n",
       "      <td>Male</td>\n",
       "      <td>0</td>\n",
       "      <td>Yes</td>\n",
       "      <td>Yes</td>\n",
       "      <td>0</td>\n",
       "      <td>Yes</td>\n",
       "      <td>No</td>\n",
       "      <td>No</td>\n",
       "      <td>No internet service</td>\n",
       "      <td>No internet service</td>\n",
       "      <td>No internet service</td>\n",
       "      <td>No internet service</td>\n",
       "      <td>No internet service</td>\n",
       "      <td>No internet service</td>\n",
       "      <td>Two year</td>\n",
       "      <td>No</td>\n",
       "      <td>Mailed check</td>\n",
       "      <td>19.85</td>\n",
       "      <td></td>\n",
       "      <td>No</td>\n",
       "    </tr>\n",
       "    <tr>\n",
       "      <th>3826</th>\n",
       "      <td>Male</td>\n",
       "      <td>0</td>\n",
       "      <td>Yes</td>\n",
       "      <td>Yes</td>\n",
       "      <td>0</td>\n",
       "      <td>Yes</td>\n",
       "      <td>Yes</td>\n",
       "      <td>No</td>\n",
       "      <td>No internet service</td>\n",
       "      <td>No internet service</td>\n",
       "      <td>No internet service</td>\n",
       "      <td>No internet service</td>\n",
       "      <td>No internet service</td>\n",
       "      <td>No internet service</td>\n",
       "      <td>Two year</td>\n",
       "      <td>No</td>\n",
       "      <td>Mailed check</td>\n",
       "      <td>25.35</td>\n",
       "      <td></td>\n",
       "      <td>No</td>\n",
       "    </tr>\n",
       "    <tr>\n",
       "      <th>4380</th>\n",
       "      <td>Female</td>\n",
       "      <td>0</td>\n",
       "      <td>Yes</td>\n",
       "      <td>Yes</td>\n",
       "      <td>0</td>\n",
       "      <td>Yes</td>\n",
       "      <td>No</td>\n",
       "      <td>No</td>\n",
       "      <td>No internet service</td>\n",
       "      <td>No internet service</td>\n",
       "      <td>No internet service</td>\n",
       "      <td>No internet service</td>\n",
       "      <td>No internet service</td>\n",
       "      <td>No internet service</td>\n",
       "      <td>Two year</td>\n",
       "      <td>No</td>\n",
       "      <td>Mailed check</td>\n",
       "      <td>20.00</td>\n",
       "      <td></td>\n",
       "      <td>No</td>\n",
       "    </tr>\n",
       "    <tr>\n",
       "      <th>5218</th>\n",
       "      <td>Male</td>\n",
       "      <td>0</td>\n",
       "      <td>Yes</td>\n",
       "      <td>Yes</td>\n",
       "      <td>0</td>\n",
       "      <td>Yes</td>\n",
       "      <td>No</td>\n",
       "      <td>No</td>\n",
       "      <td>No internet service</td>\n",
       "      <td>No internet service</td>\n",
       "      <td>No internet service</td>\n",
       "      <td>No internet service</td>\n",
       "      <td>No internet service</td>\n",
       "      <td>No internet service</td>\n",
       "      <td>One year</td>\n",
       "      <td>Yes</td>\n",
       "      <td>Mailed check</td>\n",
       "      <td>19.70</td>\n",
       "      <td></td>\n",
       "      <td>No</td>\n",
       "    </tr>\n",
       "    <tr>\n",
       "      <th>6670</th>\n",
       "      <td>Female</td>\n",
       "      <td>0</td>\n",
       "      <td>Yes</td>\n",
       "      <td>Yes</td>\n",
       "      <td>0</td>\n",
       "      <td>Yes</td>\n",
       "      <td>Yes</td>\n",
       "      <td>DSL</td>\n",
       "      <td>No</td>\n",
       "      <td>Yes</td>\n",
       "      <td>Yes</td>\n",
       "      <td>Yes</td>\n",
       "      <td>Yes</td>\n",
       "      <td>No</td>\n",
       "      <td>Two year</td>\n",
       "      <td>No</td>\n",
       "      <td>Mailed check</td>\n",
       "      <td>73.35</td>\n",
       "      <td></td>\n",
       "      <td>No</td>\n",
       "    </tr>\n",
       "    <tr>\n",
       "      <th>6754</th>\n",
       "      <td>Male</td>\n",
       "      <td>0</td>\n",
       "      <td>No</td>\n",
       "      <td>Yes</td>\n",
       "      <td>0</td>\n",
       "      <td>Yes</td>\n",
       "      <td>Yes</td>\n",
       "      <td>DSL</td>\n",
       "      <td>Yes</td>\n",
       "      <td>Yes</td>\n",
       "      <td>No</td>\n",
       "      <td>Yes</td>\n",
       "      <td>No</td>\n",
       "      <td>No</td>\n",
       "      <td>Two year</td>\n",
       "      <td>Yes</td>\n",
       "      <td>Bank transfer (automatic)</td>\n",
       "      <td>61.90</td>\n",
       "      <td></td>\n",
       "      <td>No</td>\n",
       "    </tr>\n",
       "  </tbody>\n",
       "</table>\n",
       "</div>"
      ],
      "text/plain": [
       "      gender  SeniorCitizen Partner Dependents  tenure PhoneService  \\\n",
       "488   Female              0     Yes        Yes       0           No   \n",
       "753     Male              0      No        Yes       0          Yes   \n",
       "936   Female              0     Yes        Yes       0          Yes   \n",
       "1082    Male              0     Yes        Yes       0          Yes   \n",
       "1340  Female              0     Yes        Yes       0           No   \n",
       "3331    Male              0     Yes        Yes       0          Yes   \n",
       "3826    Male              0     Yes        Yes       0          Yes   \n",
       "4380  Female              0     Yes        Yes       0          Yes   \n",
       "5218    Male              0     Yes        Yes       0          Yes   \n",
       "6670  Female              0     Yes        Yes       0          Yes   \n",
       "6754    Male              0      No        Yes       0          Yes   \n",
       "\n",
       "         MultipleLines InternetService       OnlineSecurity  \\\n",
       "488   No phone service             DSL                  Yes   \n",
       "753                 No              No  No internet service   \n",
       "936                 No             DSL                  Yes   \n",
       "1082               Yes              No  No internet service   \n",
       "1340  No phone service             DSL                  Yes   \n",
       "3331                No              No  No internet service   \n",
       "3826               Yes              No  No internet service   \n",
       "4380                No              No  No internet service   \n",
       "5218                No              No  No internet service   \n",
       "6670               Yes             DSL                   No   \n",
       "6754               Yes             DSL                  Yes   \n",
       "\n",
       "             OnlineBackup     DeviceProtection          TechSupport  \\\n",
       "488                    No                  Yes                  Yes   \n",
       "753   No internet service  No internet service  No internet service   \n",
       "936                   Yes                  Yes                   No   \n",
       "1082  No internet service  No internet service  No internet service   \n",
       "1340                  Yes                  Yes                  Yes   \n",
       "3331  No internet service  No internet service  No internet service   \n",
       "3826  No internet service  No internet service  No internet service   \n",
       "4380  No internet service  No internet service  No internet service   \n",
       "5218  No internet service  No internet service  No internet service   \n",
       "6670                  Yes                  Yes                  Yes   \n",
       "6754                  Yes                   No                  Yes   \n",
       "\n",
       "              StreamingTV      StreamingMovies  Contract PaperlessBilling  \\\n",
       "488                   Yes                   No  Two year              Yes   \n",
       "753   No internet service  No internet service  Two year               No   \n",
       "936                   Yes                  Yes  Two year               No   \n",
       "1082  No internet service  No internet service  Two year               No   \n",
       "1340                  Yes                   No  Two year               No   \n",
       "3331  No internet service  No internet service  Two year               No   \n",
       "3826  No internet service  No internet service  Two year               No   \n",
       "4380  No internet service  No internet service  Two year               No   \n",
       "5218  No internet service  No internet service  One year              Yes   \n",
       "6670                  Yes                   No  Two year               No   \n",
       "6754                   No                   No  Two year              Yes   \n",
       "\n",
       "                  PaymentMethod  MonthlyCharges TotalCharges Churn  \n",
       "488   Bank transfer (automatic)           52.55                 No  \n",
       "753                Mailed check           20.25                 No  \n",
       "936                Mailed check           80.85                 No  \n",
       "1082               Mailed check           25.75                 No  \n",
       "1340    Credit card (automatic)           56.05                 No  \n",
       "3331               Mailed check           19.85                 No  \n",
       "3826               Mailed check           25.35                 No  \n",
       "4380               Mailed check           20.00                 No  \n",
       "5218               Mailed check           19.70                 No  \n",
       "6670               Mailed check           73.35                 No  \n",
       "6754  Bank transfer (automatic)           61.90                 No  "
      ]
     },
     "execution_count": 5,
     "metadata": {},
     "output_type": "execute_result"
    }
   ],
   "source": [
    "#Find rows where 'TotalCharges' is missing\n",
    "df[pd.to_numeric(df.TotalCharges, errors='coerce').isnull()]"
   ]
  },
  {
   "cell_type": "code",
   "execution_count": 6,
   "metadata": {},
   "outputs": [
    {
     "data": {
      "text/plain": [
       "' '"
      ]
     },
     "execution_count": 6,
     "metadata": {},
     "output_type": "execute_result"
    }
   ],
   "source": [
    "# Display rows where TotalCharges is missing\n",
    "df.iloc[488]['TotalCharges']"
   ]
  },
  {
   "cell_type": "code",
   "execution_count": 7,
   "metadata": {},
   "outputs": [
    {
     "data": {
      "text/plain": [
       "(7032, 20)"
      ]
     },
     "execution_count": 7,
     "metadata": {},
     "output_type": "execute_result"
    }
   ],
   "source": [
    "#Drop the rows where 'TotalCharges' is blank\n",
    "df1 = df[df.TotalCharges!=' ']\n",
    "df1.shape"
   ]
  },
  {
   "cell_type": "code",
   "execution_count": 8,
   "metadata": {},
   "outputs": [],
   "source": [
    "#converting the totalcharge  column to a numeric one\n",
    "df1.TotalCharges = pd.to_numeric(df1.TotalCharges)"
   ]
  },
  {
   "cell_type": "code",
   "execution_count": 9,
   "metadata": {},
   "outputs": [
    {
     "data": {
      "text/plain": [
       "dtype('float64')"
      ]
     },
     "execution_count": 9,
     "metadata": {},
     "output_type": "execute_result"
    }
   ],
   "source": [
    "# Verify the data type of the 'TotalCharges' column\n",
    "df1.TotalCharges.dtypes"
   ]
  },
  {
   "cell_type": "markdown",
   "metadata": {},
   "source": [
    "#### Data Visualization"
   ]
  },
  {
   "cell_type": "code",
   "execution_count": 10,
   "metadata": {},
   "outputs": [
    {
     "data": {
      "text/plain": [
       "<matplotlib.legend.Legend at 0x1a01ccc7760>"
      ]
     },
     "execution_count": 10,
     "metadata": {},
     "output_type": "execute_result"
    },
    {
     "data": {
      "image/png": "[encoded data removed]",
      "text/plain": [
       "<Figure size 640x480 with 1 Axes>"
      ]
     },
     "metadata": {},
     "output_type": "display_data"
    }
   ],
   "source": [
    "# Extract the tenure of customers who did not churn and those who churned\n",
    "tenure_churn_no = df1[df1.Churn=='No'].tenure\n",
    "tenure_churn_yes = df1[df1.Churn == 'Yes'].tenure\n",
    "\n",
    "# Plot the tenure distribution for churned and non-churned customers\n",
    "plt.xlabel(\"Tenure\")\n",
    "plt.ylabel(\"Number of Customers\")\n",
    "plt.title('Customer Curn Prediction Visualization')\n",
    "\n",
    "plt.hist([tenure_churn_yes, tenure_churn_no],color=['green','blue'],label=['Churn=Yes','Churn=No'])\n",
    "plt.legend()\n"
   ]
  },
  {
   "cell_type": "markdown",
   "metadata": {},
   "source": [
    "Observed above that the majority of people who are with the company for a long time are not living."
   ]
  },
  {
   "cell_type": "code",
   "execution_count": 11,
   "metadata": {},
   "outputs": [
    {
     "data": {
      "text/plain": [
       "<matplotlib.legend.Legend at 0x1a01cf1f5e0>"
      ]
     },
     "execution_count": 11,
     "metadata": {},
     "output_type": "execute_result"
    },
    {
     "data": {
      "image/png": "[encoded data removed]",
      "text/plain": [
       "<Figure size 640x480 with 1 Axes>"
      ]
     },
     "metadata": {},
     "output_type": "display_data"
    }
   ],
   "source": [
    "# Extract the monthly charges for customers who did not churn and those who churned\n",
    "mc_churn_no = df1[df1.Churn=='No'].MonthlyCharges\n",
    "mc_churn_yes = df1[df1.Churn == 'Yes'].MonthlyCharges\n",
    "\n",
    "# Plot the monthly charges distribution for churned and non-churned customers\n",
    "plt.xlabel(\"Monthly Charges\")\n",
    "plt.ylabel(\"Number of Customers\")\n",
    "plt.title('Customer Curn Prediction Visualization')\n",
    "\n",
    "\n",
    "blood_sugar_men = [113,85,90,150,149,88,93,115,135,80,77,82,129]\n",
    "blood_sugar_women = [67,98,89,120,133,150,84,69,89,79,120,112,100]\n",
    "\n",
    "plt.hist([mc_churn_yes, mc_churn_no],rwidth=0.95, color=['blue','red'],label=['Churn=Yes','Churn=No'])\n",
    "plt.legend()\n"
   ]
  },
  {
   "cell_type": "markdown",
   "metadata": {},
   "source": [
    "customer who have very high charges are living more "
   ]
  },
  {
   "cell_type": "markdown",
   "metadata": {},
   "source": [
    "##### Many of the columns are yes, no etc. Let's print unique values in object columns to see data values"
   ]
  },
  {
   "cell_type": "code",
   "execution_count": 12,
   "metadata": {},
   "outputs": [
    {
     "name": "stdout",
     "output_type": "stream",
     "text": [
      "gender : ['Female' 'Male']\n",
      "Partner : ['Yes' 'No']\n",
      "Dependents : ['No' 'Yes']\n",
      "PhoneService : ['No' 'Yes']\n",
      "MultipleLines : ['No phone service' 'No' 'Yes']\n",
      "InternetService : ['DSL' 'Fiber optic' 'No']\n",
      "OnlineSecurity : ['No' 'Yes' 'No internet service']\n",
      "OnlineBackup : ['Yes' 'No' 'No internet service']\n",
      "DeviceProtection : ['No' 'Yes' 'No internet service']\n",
      "TechSupport : ['No' 'Yes' 'No internet service']\n",
      "StreamingTV : ['No' 'Yes' 'No internet service']\n",
      "StreamingMovies : ['No' 'Yes' 'No internet service']\n",
      "Contract : ['Month-to-month' 'One year' 'Two year']\n",
      "PaperlessBilling : ['Yes' 'No']\n",
      "PaymentMethod : ['Electronic check' 'Mailed check' 'Bank transfer (automatic)'\n",
      " 'Credit card (automatic)']\n",
      "Churn : ['No' 'Yes']\n"
     ]
    }
   ],
   "source": [
    "# # Define a function to print unique values in non-numeric columns \n",
    "def print_unique_col_values(df):\n",
    "    for column in df:\n",
    "        if df[column].dtypes=='object':\n",
    "            print(f'{column} : {df[column].unique()}')\n",
    "            \n",
    "# Print unique values in non-numeric columns            \n",
    "print_unique_col_values(df1)"
   ]
  },
  {
   "cell_type": "markdown",
   "metadata": {},
   "source": [
    "##### Some of the columns have no internet service or no phone service, that can be replaced with a simple No"
   ]
  },
  {
   "cell_type": "code",
   "execution_count": 13,
   "metadata": {},
   "outputs": [
    {
     "name": "stdout",
     "output_type": "stream",
     "text": [
      "gender : ['Female' 'Male']\n",
      "Partner : ['Yes' 'No']\n",
      "Dependents : ['No' 'Yes']\n",
      "PhoneService : ['No' 'Yes']\n",
      "MultipleLines : ['No' 'Yes']\n",
      "InternetService : ['DSL' 'Fiber optic' 'No']\n",
      "OnlineSecurity : ['No' 'Yes']\n",
      "OnlineBackup : ['Yes' 'No']\n",
      "DeviceProtection : ['No' 'Yes']\n",
      "TechSupport : ['No' 'Yes']\n",
      "StreamingTV : ['No' 'Yes']\n",
      "StreamingMovies : ['No' 'Yes']\n",
      "Contract : ['Month-to-month' 'One year' 'Two year']\n",
      "PaperlessBilling : ['Yes' 'No']\n",
      "PaymentMethod : ['Electronic check' 'Mailed check' 'Bank transfer (automatic)'\n",
      " 'Credit card (automatic)']\n",
      "Churn : ['No' 'Yes']\n"
     ]
    }
   ],
   "source": [
    "#replace the multiplelines column the 'No phone service' entry with 'No'\n",
    "df1.replace('No phone service', 'No', inplace=True)\n",
    "#replace the OnlineSecurity,StreamingMovies,StreamingTV,TechSupport,DeviceProtection,OnlineBackup columns the 'No internet service' entry with 'No'\n",
    "df1.replace('No internet service', 'No', inplace=True)\n",
    "\n",
    "#view the non_numeric columns now\n",
    "print_unique_col_values(df1)\n"
   ]
  },
  {
   "cell_type": "markdown",
   "metadata": {},
   "source": [
    "##### Convert Yes and No to 1 or 0"
   ]
  },
  {
   "cell_type": "code",
   "execution_count": 14,
   "metadata": {},
   "outputs": [
    {
     "name": "stdout",
     "output_type": "stream",
     "text": [
      "gender:['Female' 'Male']\n",
      "SeniorCitizen:[0 1]\n",
      "Partner:[1 0]\n",
      "Dependents:[0 1]\n",
      "tenure:[ 1 34  2 45  8 22 10 28 62 13 16 58 49 25 69 52 71 21 12 30 47 72 17 27\n",
      "  5 46 11 70 63 43 15 60 18 66  9  3 31 50 64 56  7 42 35 48 29 65 38 68\n",
      " 32 55 37 36 41  6  4 33 67 23 57 61 14 20 53 40 59 24 44 19 54 51 26 39]\n",
      "PhoneService:[0 1]\n",
      "MultipleLines:[0 1]\n",
      "InternetService:['DSL' 'Fiber optic' 'No']\n",
      "OnlineSecurity:[0 1]\n",
      "OnlineBackup:[1 0]\n",
      "DeviceProtection:[0 1]\n",
      "TechSupport:[0 1]\n",
      "StreamingTV:[0 1]\n",
      "StreamingMovies:[0 1]\n",
      "Contract:['Month-to-month' 'One year' 'Two year']\n",
      "PaperlessBilling:[1 0]\n",
      "PaymentMethod:['Electronic check' 'Mailed check' 'Bank transfer (automatic)'\n",
      " 'Credit card (automatic)']\n",
      "MonthlyCharges:[29.85 56.95 53.85 ... 63.1  44.2  78.7 ]\n",
      "TotalCharges:[  29.85 1889.5   108.15 ...  346.45  306.6  6844.5 ]\n",
      "Churn:[0 1]\n"
     ]
    }
   ],
   "source": [
    "#replace yes and no entrys in the columns to numeric data i.e 1 and 0\n",
    "yes_no_columns = ['PaperlessBilling','OnlineSecurity','OnlineBackup','DeviceProtection', 'TechSupport','DeviceProtection',\n",
    "                  'MultipleLines','StreamingTV','StreamingMovies', 'Partner', 'Dependents', 'PhoneService' ,'Churn','MultipleLines' ]\n",
    "\n",
    "for col in yes_no_columns:\n",
    "    df1[col].replace({'Yes': 1, 'No':0},inplace=True)\n",
    "\n",
    "#viewing all the cuniques columns \n",
    "for col in df1:\n",
    "    print(f'{col}:{df1[col].unique()}')"
   ]
  },
  {
   "cell_type": "code",
   "execution_count": 15,
   "metadata": {},
   "outputs": [],
   "source": [
    "# replace the gender columnb male or female entries with 1 and 0\n",
    "df1['gender'].replace({'Female': 1,'Male':0},inplace=True)"
   ]
  },
  {
   "cell_type": "markdown",
   "metadata": {},
   "source": [
    "##### One Hot Encoding for categorical columns"
   ]
  },
  {
   "cell_type": "code",
   "execution_count": 16,
   "metadata": {},
   "outputs": [
    {
     "data": {
      "text/plain": [
       "Index(['gender', 'SeniorCitizen', 'Partner', 'Dependents', 'tenure',\n",
       "       'PhoneService', 'MultipleLines', 'OnlineSecurity', 'OnlineBackup',\n",
       "       'DeviceProtection', 'TechSupport', 'StreamingTV', 'StreamingMovies',\n",
       "       'PaperlessBilling', 'MonthlyCharges', 'TotalCharges', 'Churn',\n",
       "       'InternetService_DSL', 'InternetService_Fiber optic',\n",
       "       'InternetService_No', 'Contract_Month-to-month', 'Contract_One year',\n",
       "       'Contract_Two year', 'PaymentMethod_Bank transfer (automatic)',\n",
       "       'PaymentMethod_Credit card (automatic)',\n",
       "       'PaymentMethod_Electronic check', 'PaymentMethod_Mailed check'],\n",
       "      dtype='object')"
      ]
     },
     "execution_count": 16,
     "metadata": {},
     "output_type": "execute_result"
    }
   ],
   "source": [
    "# Perform one-hot encoding for categorical columns such as 'InternetService', 'Contract', and 'PaymentMethod'\n",
    "df2 = pd.get_dummies(data=df1,columns=['InternetService','Contract','PaymentMethod'])\n",
    "\n",
    "# Display the new columns after one-hot encoding\n",
    "df2.columns"
   ]
  },
  {
   "cell_type": "code",
   "execution_count": 17,
   "metadata": {},
   "outputs": [
    {
     "data": {
      "text/html": [
       "<div>\n",
       "<style scoped>\n",
       "    .dataframe tbody tr th:only-of-type {\n",
       "        vertical-align: middle;\n",
       "    }\n",
       "\n",
       "    .dataframe tbody tr th {\n",
       "        vertical-align: top;\n",
       "    }\n",
       "\n",
       "    .dataframe thead th {\n",
       "        text-align: right;\n",
       "    }\n",
       "</style>\n",
       "<table border=\"1\" class=\"dataframe\">\n",
       "  <thead>\n",
       "    <tr style=\"text-align: right;\">\n",
       "      <th></th>\n",
       "      <th>gender</th>\n",
       "      <th>SeniorCitizen</th>\n",
       "      <th>Partner</th>\n",
       "      <th>Dependents</th>\n",
       "      <th>tenure</th>\n",
       "      <th>PhoneService</th>\n",
       "      <th>MultipleLines</th>\n",
       "      <th>OnlineSecurity</th>\n",
       "      <th>OnlineBackup</th>\n",
       "      <th>DeviceProtection</th>\n",
       "      <th>...</th>\n",
       "      <th>InternetService_DSL</th>\n",
       "      <th>InternetService_Fiber optic</th>\n",
       "      <th>InternetService_No</th>\n",
       "      <th>Contract_Month-to-month</th>\n",
       "      <th>Contract_One year</th>\n",
       "      <th>Contract_Two year</th>\n",
       "      <th>PaymentMethod_Bank transfer (automatic)</th>\n",
       "      <th>PaymentMethod_Credit card (automatic)</th>\n",
       "      <th>PaymentMethod_Electronic check</th>\n",
       "      <th>PaymentMethod_Mailed check</th>\n",
       "    </tr>\n",
       "  </thead>\n",
       "  <tbody>\n",
       "    <tr>\n",
       "      <th>6951</th>\n",
       "      <td>0</td>\n",
       "      <td>0</td>\n",
       "      <td>0</td>\n",
       "      <td>0</td>\n",
       "      <td>49</td>\n",
       "      <td>1</td>\n",
       "      <td>0</td>\n",
       "      <td>0</td>\n",
       "      <td>0</td>\n",
       "      <td>0</td>\n",
       "      <td>...</td>\n",
       "      <td>False</td>\n",
       "      <td>False</td>\n",
       "      <td>True</td>\n",
       "      <td>False</td>\n",
       "      <td>False</td>\n",
       "      <td>True</td>\n",
       "      <td>False</td>\n",
       "      <td>True</td>\n",
       "      <td>False</td>\n",
       "      <td>False</td>\n",
       "    </tr>\n",
       "    <tr>\n",
       "      <th>6276</th>\n",
       "      <td>1</td>\n",
       "      <td>0</td>\n",
       "      <td>1</td>\n",
       "      <td>1</td>\n",
       "      <td>15</td>\n",
       "      <td>1</td>\n",
       "      <td>0</td>\n",
       "      <td>0</td>\n",
       "      <td>0</td>\n",
       "      <td>0</td>\n",
       "      <td>...</td>\n",
       "      <td>False</td>\n",
       "      <td>False</td>\n",
       "      <td>True</td>\n",
       "      <td>False</td>\n",
       "      <td>True</td>\n",
       "      <td>False</td>\n",
       "      <td>False</td>\n",
       "      <td>True</td>\n",
       "      <td>False</td>\n",
       "      <td>False</td>\n",
       "    </tr>\n",
       "    <tr>\n",
       "      <th>3849</th>\n",
       "      <td>1</td>\n",
       "      <td>0</td>\n",
       "      <td>1</td>\n",
       "      <td>0</td>\n",
       "      <td>58</td>\n",
       "      <td>1</td>\n",
       "      <td>1</td>\n",
       "      <td>1</td>\n",
       "      <td>1</td>\n",
       "      <td>1</td>\n",
       "      <td>...</td>\n",
       "      <td>False</td>\n",
       "      <td>True</td>\n",
       "      <td>False</td>\n",
       "      <td>False</td>\n",
       "      <td>False</td>\n",
       "      <td>True</td>\n",
       "      <td>True</td>\n",
       "      <td>False</td>\n",
       "      <td>False</td>\n",
       "      <td>False</td>\n",
       "    </tr>\n",
       "    <tr>\n",
       "      <th>2829</th>\n",
       "      <td>0</td>\n",
       "      <td>1</td>\n",
       "      <td>0</td>\n",
       "      <td>0</td>\n",
       "      <td>8</td>\n",
       "      <td>1</td>\n",
       "      <td>0</td>\n",
       "      <td>0</td>\n",
       "      <td>0</td>\n",
       "      <td>0</td>\n",
       "      <td>...</td>\n",
       "      <td>False</td>\n",
       "      <td>True</td>\n",
       "      <td>False</td>\n",
       "      <td>True</td>\n",
       "      <td>False</td>\n",
       "      <td>False</td>\n",
       "      <td>False</td>\n",
       "      <td>False</td>\n",
       "      <td>True</td>\n",
       "      <td>False</td>\n",
       "    </tr>\n",
       "  </tbody>\n",
       "</table>\n",
       "<p>4 rows × 27 columns</p>\n",
       "</div>"
      ],
      "text/plain": [
       "      gender  SeniorCitizen  Partner  Dependents  tenure  PhoneService  \\\n",
       "6951       0              0        0           0      49             1   \n",
       "6276       1              0        1           1      15             1   \n",
       "3849       1              0        1           0      58             1   \n",
       "2829       0              1        0           0       8             1   \n",
       "\n",
       "      MultipleLines  OnlineSecurity  OnlineBackup  DeviceProtection  ...  \\\n",
       "6951              0               0             0                 0  ...   \n",
       "6276              0               0             0                 0  ...   \n",
       "3849              1               1             1                 1  ...   \n",
       "2829              0               0             0                 0  ...   \n",
       "\n",
       "      InternetService_DSL  InternetService_Fiber optic  InternetService_No  \\\n",
       "6951                False                        False                True   \n",
       "6276                False                        False                True   \n",
       "3849                False                         True               False   \n",
       "2829                False                         True               False   \n",
       "\n",
       "      Contract_Month-to-month  Contract_One year  Contract_Two year  \\\n",
       "6951                    False              False               True   \n",
       "6276                    False               True              False   \n",
       "3849                    False              False               True   \n",
       "2829                     True              False              False   \n",
       "\n",
       "      PaymentMethod_Bank transfer (automatic)  \\\n",
       "6951                                    False   \n",
       "6276                                    False   \n",
       "3849                                     True   \n",
       "2829                                    False   \n",
       "\n",
       "      PaymentMethod_Credit card (automatic)  PaymentMethod_Electronic check  \\\n",
       "6951                                   True                           False   \n",
       "6276                                   True                           False   \n",
       "3849                                  False                           False   \n",
       "2829                                  False                            True   \n",
       "\n",
       "      PaymentMethod_Mailed check  \n",
       "6951                       False  \n",
       "6276                       False  \n",
       "3849                       False  \n",
       "2829                       False  \n",
       "\n",
       "[4 rows x 27 columns]"
      ]
     },
     "execution_count": 17,
     "metadata": {},
     "output_type": "execute_result"
    }
   ],
   "source": [
    "df2.sample(4)"
   ]
  },
  {
   "cell_type": "code",
   "execution_count": 18,
   "metadata": {},
   "outputs": [
    {
     "data": {
      "text/plain": [
       "gender                                       int64\n",
       "SeniorCitizen                                int64\n",
       "Partner                                      int64\n",
       "Dependents                                   int64\n",
       "tenure                                       int64\n",
       "PhoneService                                 int64\n",
       "MultipleLines                                int64\n",
       "OnlineSecurity                               int64\n",
       "OnlineBackup                                 int64\n",
       "DeviceProtection                             int64\n",
       "TechSupport                                  int64\n",
       "StreamingTV                                  int64\n",
       "StreamingMovies                              int64\n",
       "PaperlessBilling                             int64\n",
       "MonthlyCharges                             float64\n",
       "TotalCharges                               float64\n",
       "Churn                                        int64\n",
       "InternetService_DSL                           bool\n",
       "InternetService_Fiber optic                   bool\n",
       "InternetService_No                            bool\n",
       "Contract_Month-to-month                       bool\n",
       "Contract_One year                             bool\n",
       "Contract_Two year                             bool\n",
       "PaymentMethod_Bank transfer (automatic)       bool\n",
       "PaymentMethod_Credit card (automatic)         bool\n",
       "PaymentMethod_Electronic check                bool\n",
       "PaymentMethod_Mailed check                    bool\n",
       "dtype: object"
      ]
     },
     "execution_count": 18,
     "metadata": {},
     "output_type": "execute_result"
    }
   ],
   "source": [
    "# Check the data types of the columns in the new dataframe\n",
    "df2.dtypes"
   ]
  },
  {
   "cell_type": "code",
   "execution_count": 19,
   "metadata": {},
   "outputs": [
    {
     "name": "stdout",
     "output_type": "stream",
     "text": [
      "gender                                       int64\n",
      "SeniorCitizen                                int64\n",
      "Partner                                      int64\n",
      "Dependents                                   int64\n",
      "tenure                                       int64\n",
      "PhoneService                                 int64\n",
      "MultipleLines                                int64\n",
      "OnlineSecurity                               int64\n",
      "OnlineBackup                                 int64\n",
      "DeviceProtection                             int64\n",
      "TechSupport                                  int64\n",
      "StreamingTV                                  int64\n",
      "StreamingMovies                              int64\n",
      "PaperlessBilling                             int64\n",
      "MonthlyCharges                             float64\n",
      "TotalCharges                               float64\n",
      "Churn                                        int64\n",
      "InternetService_DSL                          int32\n",
      "InternetService_Fiber optic                  int32\n",
      "InternetService_No                           int32\n",
      "Contract_Month-to-month                      int32\n",
      "Contract_One year                            int32\n",
      "Contract_Two year                            int32\n",
      "PaymentMethod_Bank transfer (automatic)      int32\n",
      "PaymentMethod_Credit card (automatic)        int32\n",
      "PaymentMethod_Electronic check               int32\n",
      "PaymentMethod_Mailed check                   int32\n",
      "dtype: object\n"
     ]
    }
   ],
   "source": [
    "#Converting the bool columns to numeric onces\n",
    "\n",
    "bool_columns = [\n",
    "\n",
    "    'InternetService_DSL',\n",
    "    'InternetService_Fiber optic',\n",
    "    'InternetService_No',\n",
    "    'Contract_Month-to-month',\n",
    "    'Contract_One year',\n",
    "    'Contract_Two year',\n",
    "    'PaymentMethod_Bank transfer (automatic)',\n",
    "    'PaymentMethod_Credit card (automatic)',\n",
    "    'PaymentMethod_Electronic check',\n",
    "    'PaymentMethod_Mailed check',\n",
    "]\n",
    "\n",
    "# Convert bool columns to numeric (int)\n",
    "df2[bool_columns] = df2[bool_columns].astype(int)\n",
    "\n",
    "# Verify the conversion\n",
    "print(df2.dtypes)\n"
   ]
  },
  {
   "cell_type": "markdown",
   "metadata": {},
   "source": [
    "##### Scaling"
   ]
  },
  {
   "cell_type": "markdown",
   "metadata": {},
   "source": [
    "Scaling the numerical clumns that are no in the 0 and 1 range\n"
   ]
  },
  {
   "cell_type": "code",
   "execution_count": 20,
   "metadata": {},
   "outputs": [],
   "source": [
    "# Scaling the numerical columns to the range [0, 1] using MinMaxScaler\n",
    "cols_to_scale=['tenure','MonthlyCharges','TotalCharges']\n",
    "scaler = MinMaxScaler()\n",
    "df2[cols_to_scale] = scaler.fit_transform(df2[cols_to_scale])\n",
    "\n"
   ]
  },
  {
   "cell_type": "code",
   "execution_count": 21,
   "metadata": {},
   "outputs": [
    {
     "data": {
      "text/html": [
       "<div>\n",
       "<style scoped>\n",
       "    .dataframe tbody tr th:only-of-type {\n",
       "        vertical-align: middle;\n",
       "    }\n",
       "\n",
       "    .dataframe tbody tr th {\n",
       "        vertical-align: top;\n",
       "    }\n",
       "\n",
       "    .dataframe thead th {\n",
       "        text-align: right;\n",
       "    }\n",
       "</style>\n",
       "<table border=\"1\" class=\"dataframe\">\n",
       "  <thead>\n",
       "    <tr style=\"text-align: right;\">\n",
       "      <th></th>\n",
       "      <th>gender</th>\n",
       "      <th>SeniorCitizen</th>\n",
       "      <th>Partner</th>\n",
       "      <th>Dependents</th>\n",
       "      <th>tenure</th>\n",
       "      <th>PhoneService</th>\n",
       "      <th>MultipleLines</th>\n",
       "      <th>OnlineSecurity</th>\n",
       "      <th>OnlineBackup</th>\n",
       "      <th>DeviceProtection</th>\n",
       "      <th>...</th>\n",
       "      <th>InternetService_DSL</th>\n",
       "      <th>InternetService_Fiber optic</th>\n",
       "      <th>InternetService_No</th>\n",
       "      <th>Contract_Month-to-month</th>\n",
       "      <th>Contract_One year</th>\n",
       "      <th>Contract_Two year</th>\n",
       "      <th>PaymentMethod_Bank transfer (automatic)</th>\n",
       "      <th>PaymentMethod_Credit card (automatic)</th>\n",
       "      <th>PaymentMethod_Electronic check</th>\n",
       "      <th>PaymentMethod_Mailed check</th>\n",
       "    </tr>\n",
       "  </thead>\n",
       "  <tbody>\n",
       "    <tr>\n",
       "      <th>702</th>\n",
       "      <td>0</td>\n",
       "      <td>0</td>\n",
       "      <td>0</td>\n",
       "      <td>0</td>\n",
       "      <td>0.394366</td>\n",
       "      <td>1</td>\n",
       "      <td>1</td>\n",
       "      <td>0</td>\n",
       "      <td>0</td>\n",
       "      <td>0</td>\n",
       "      <td>...</td>\n",
       "      <td>0</td>\n",
       "      <td>1</td>\n",
       "      <td>0</td>\n",
       "      <td>1</td>\n",
       "      <td>0</td>\n",
       "      <td>0</td>\n",
       "      <td>0</td>\n",
       "      <td>0</td>\n",
       "      <td>1</td>\n",
       "      <td>0</td>\n",
       "    </tr>\n",
       "    <tr>\n",
       "      <th>6535</th>\n",
       "      <td>0</td>\n",
       "      <td>0</td>\n",
       "      <td>0</td>\n",
       "      <td>0</td>\n",
       "      <td>0.478873</td>\n",
       "      <td>1</td>\n",
       "      <td>0</td>\n",
       "      <td>0</td>\n",
       "      <td>1</td>\n",
       "      <td>1</td>\n",
       "      <td>...</td>\n",
       "      <td>0</td>\n",
       "      <td>1</td>\n",
       "      <td>0</td>\n",
       "      <td>0</td>\n",
       "      <td>1</td>\n",
       "      <td>0</td>\n",
       "      <td>1</td>\n",
       "      <td>0</td>\n",
       "      <td>0</td>\n",
       "      <td>0</td>\n",
       "    </tr>\n",
       "    <tr>\n",
       "      <th>3968</th>\n",
       "      <td>1</td>\n",
       "      <td>0</td>\n",
       "      <td>1</td>\n",
       "      <td>0</td>\n",
       "      <td>1.000000</td>\n",
       "      <td>1</td>\n",
       "      <td>0</td>\n",
       "      <td>0</td>\n",
       "      <td>0</td>\n",
       "      <td>0</td>\n",
       "      <td>...</td>\n",
       "      <td>0</td>\n",
       "      <td>0</td>\n",
       "      <td>1</td>\n",
       "      <td>0</td>\n",
       "      <td>0</td>\n",
       "      <td>1</td>\n",
       "      <td>1</td>\n",
       "      <td>0</td>\n",
       "      <td>0</td>\n",
       "      <td>0</td>\n",
       "    </tr>\n",
       "  </tbody>\n",
       "</table>\n",
       "<p>3 rows × 27 columns</p>\n",
       "</div>"
      ],
      "text/plain": [
       "      gender  SeniorCitizen  Partner  Dependents    tenure  PhoneService  \\\n",
       "702        0              0        0           0  0.394366             1   \n",
       "6535       0              0        0           0  0.478873             1   \n",
       "3968       1              0        1           0  1.000000             1   \n",
       "\n",
       "      MultipleLines  OnlineSecurity  OnlineBackup  DeviceProtection  ...  \\\n",
       "702               1               0             0                 0  ...   \n",
       "6535              0               0             1                 1  ...   \n",
       "3968              0               0             0                 0  ...   \n",
       "\n",
       "      InternetService_DSL  InternetService_Fiber optic  InternetService_No  \\\n",
       "702                     0                            1                   0   \n",
       "6535                    0                            1                   0   \n",
       "3968                    0                            0                   1   \n",
       "\n",
       "      Contract_Month-to-month  Contract_One year  Contract_Two year  \\\n",
       "702                         1                  0                  0   \n",
       "6535                        0                  1                  0   \n",
       "3968                        0                  0                  1   \n",
       "\n",
       "      PaymentMethod_Bank transfer (automatic)  \\\n",
       "702                                         0   \n",
       "6535                                        1   \n",
       "3968                                        1   \n",
       "\n",
       "      PaymentMethod_Credit card (automatic)  PaymentMethod_Electronic check  \\\n",
       "702                                       0                               1   \n",
       "6535                                      0                               0   \n",
       "3968                                      0                               0   \n",
       "\n",
       "      PaymentMethod_Mailed check  \n",
       "702                            0  \n",
       "6535                           0  \n",
       "3968                           0  \n",
       "\n",
       "[3 rows x 27 columns]"
      ]
     },
     "execution_count": 21,
     "metadata": {},
     "output_type": "execute_result"
    }
   ],
   "source": [
    "# Check the scaled data\n",
    "df2.sample(3)"
   ]
  },
  {
   "cell_type": "markdown",
   "metadata": {},
   "source": [
    "#### Train, Test, Split"
   ]
  },
  {
   "cell_type": "code",
   "execution_count": 22,
   "metadata": {},
   "outputs": [],
   "source": [
    "## Split the dataset into features (X) and target (y)\n",
    "X=df2.drop('Churn', axis='columns')\n",
    "y=df2['Churn']"
   ]
  },
  {
   "cell_type": "code",
   "execution_count": 23,
   "metadata": {},
   "outputs": [],
   "source": [
    "# Perform train-test split (80% training data, 20% testing data)\n",
    "from sklearn.model_selection import train_test_split\n",
    "X_train, X_test, y_train, y_test = train_test_split(X, y, test_size=0.2, random_state=5)"
   ]
  },
  {
   "cell_type": "code",
   "execution_count": 24,
   "metadata": {},
   "outputs": [
    {
     "data": {
      "text/plain": [
       "(5625, 26)"
      ]
     },
     "execution_count": 24,
     "metadata": {},
     "output_type": "execute_result"
    }
   ],
   "source": [
    "# Check the shape of the training data\n",
    "X_train.shape"
   ]
  },
  {
   "cell_type": "code",
   "execution_count": 25,
   "metadata": {},
   "outputs": [
    {
     "data": {
      "text/plain": [
       "(1407, 26)"
      ]
     },
     "execution_count": 25,
     "metadata": {},
     "output_type": "execute_result"
    }
   ],
   "source": [
    "X_test.shape"
   ]
  },
  {
   "cell_type": "markdown",
   "metadata": {},
   "source": [
    "#### Build a model (ANN) in tensorflow/keras"
   ]
  },
  {
   "cell_type": "code",
   "execution_count": 26,
   "metadata": {},
   "outputs": [],
   "source": [
    "import tensorflow as tf\n",
    "from tensorflow import keras"
   ]
  },
  {
   "cell_type": "code",
   "execution_count": 48,
   "metadata": {},
   "outputs": [
    {
     "name": "stdout",
     "output_type": "stream",
     "text": [
      "Epoch 1/100\n",
      "141/141 [==============================] - 2s 7ms/step - loss: 0.5050 - accuracy: 0.7502 - val_loss: 0.4562 - val_accuracy: 0.7769\n",
      "Epoch 2/100\n",
      "141/141 [==============================] - 0s 3ms/step - loss: 0.4279 - accuracy: 0.7987 - val_loss: 0.4356 - val_accuracy: 0.7884\n",
      "Epoch 3/100\n",
      "141/141 [==============================] - 1s 4ms/step - loss: 0.4153 - accuracy: 0.8062 - val_loss: 0.4314 - val_accuracy: 0.7884\n",
      "Epoch 4/100\n",
      "141/141 [==============================] - 1s 4ms/step - loss: 0.4111 - accuracy: 0.8080 - val_loss: 0.4306 - val_accuracy: 0.7893\n",
      "Epoch 5/100\n",
      "141/141 [==============================] - 0s 3ms/step - loss: 0.4088 - accuracy: 0.8091 - val_loss: 0.4301 - val_accuracy: 0.7929\n",
      "Epoch 6/100\n",
      "141/141 [==============================] - 1s 7ms/step - loss: 0.4081 - accuracy: 0.8104 - val_loss: 0.4298 - val_accuracy: 0.7893\n",
      "Epoch 7/100\n",
      "141/141 [==============================] - 1s 4ms/step - loss: 0.4068 - accuracy: 0.8093 - val_loss: 0.4308 - val_accuracy: 0.7902\n",
      "Epoch 8/100\n",
      "141/141 [==============================] - 0s 3ms/step - loss: 0.4051 - accuracy: 0.8102 - val_loss: 0.4299 - val_accuracy: 0.7893\n",
      "Epoch 9/100\n",
      "141/141 [==============================] - 0s 3ms/step - loss: 0.4041 - accuracy: 0.8120 - val_loss: 0.4289 - val_accuracy: 0.7947\n",
      "Epoch 10/100\n",
      "141/141 [==============================] - 0s 3ms/step - loss: 0.4036 - accuracy: 0.8109 - val_loss: 0.4282 - val_accuracy: 0.7956\n",
      "Epoch 11/100\n",
      "141/141 [==============================] - 1s 9ms/step - loss: 0.4028 - accuracy: 0.8118 - val_loss: 0.4286 - val_accuracy: 0.7947\n",
      "Epoch 12/100\n",
      "141/141 [==============================] - 0s 3ms/step - loss: 0.4018 - accuracy: 0.8122 - val_loss: 0.4279 - val_accuracy: 0.7956\n",
      "Epoch 13/100\n",
      "141/141 [==============================] - 0s 3ms/step - loss: 0.4007 - accuracy: 0.8144 - val_loss: 0.4278 - val_accuracy: 0.7964\n",
      "Epoch 14/100\n",
      "141/141 [==============================] - 0s 3ms/step - loss: 0.4000 - accuracy: 0.8151 - val_loss: 0.4286 - val_accuracy: 0.7982\n",
      "Epoch 15/100\n",
      "141/141 [==============================] - 0s 3ms/step - loss: 0.3996 - accuracy: 0.8133 - val_loss: 0.4277 - val_accuracy: 0.7964\n",
      "Epoch 16/100\n",
      "141/141 [==============================] - 0s 3ms/step - loss: 0.3988 - accuracy: 0.8133 - val_loss: 0.4287 - val_accuracy: 0.7902\n",
      "Epoch 17/100\n",
      "141/141 [==============================] - 0s 3ms/step - loss: 0.3984 - accuracy: 0.8151 - val_loss: 0.4285 - val_accuracy: 0.7964\n",
      "Epoch 18/100\n",
      "141/141 [==============================] - 1s 4ms/step - loss: 0.3974 - accuracy: 0.8138 - val_loss: 0.4287 - val_accuracy: 0.7964\n",
      "Epoch 19/100\n",
      "141/141 [==============================] - 0s 3ms/step - loss: 0.3968 - accuracy: 0.8144 - val_loss: 0.4296 - val_accuracy: 0.7893\n",
      "Epoch 20/100\n",
      "141/141 [==============================] - 0s 3ms/step - loss: 0.3968 - accuracy: 0.8153 - val_loss: 0.4277 - val_accuracy: 0.8009\n",
      "Epoch 21/100\n",
      "141/141 [==============================] - 1s 4ms/step - loss: 0.3962 - accuracy: 0.8158 - val_loss: 0.4282 - val_accuracy: 0.8000\n",
      "Epoch 22/100\n",
      "141/141 [==============================] - 0s 3ms/step - loss: 0.3956 - accuracy: 0.8171 - val_loss: 0.4281 - val_accuracy: 0.7964\n",
      "Epoch 23/100\n",
      "141/141 [==============================] - 0s 3ms/step - loss: 0.3957 - accuracy: 0.8160 - val_loss: 0.4280 - val_accuracy: 0.7982\n",
      "Epoch 24/100\n",
      "141/141 [==============================] - 0s 3ms/step - loss: 0.3942 - accuracy: 0.8182 - val_loss: 0.4289 - val_accuracy: 0.7938\n",
      "Epoch 25/100\n",
      "141/141 [==============================] - 0s 3ms/step - loss: 0.3938 - accuracy: 0.8184 - val_loss: 0.4290 - val_accuracy: 0.7964\n",
      "Epoch 26/100\n",
      "141/141 [==============================] - 0s 3ms/step - loss: 0.3934 - accuracy: 0.8144 - val_loss: 0.4289 - val_accuracy: 0.7991\n",
      "Epoch 27/100\n",
      "141/141 [==============================] - 1s 4ms/step - loss: 0.3923 - accuracy: 0.8189 - val_loss: 0.4317 - val_accuracy: 0.7867\n",
      "Epoch 28/100\n",
      "141/141 [==============================] - 0s 3ms/step - loss: 0.3928 - accuracy: 0.8176 - val_loss: 0.4293 - val_accuracy: 0.7973\n",
      "Epoch 29/100\n",
      "141/141 [==============================] - 0s 3ms/step - loss: 0.3917 - accuracy: 0.8178 - val_loss: 0.4292 - val_accuracy: 0.7964\n",
      "Epoch 30/100\n",
      "141/141 [==============================] - 0s 3ms/step - loss: 0.3913 - accuracy: 0.8167 - val_loss: 0.4295 - val_accuracy: 0.7982\n",
      "Epoch 31/100\n",
      "141/141 [==============================] - 1s 5ms/step - loss: 0.3908 - accuracy: 0.8149 - val_loss: 0.4298 - val_accuracy: 0.7911\n",
      "Epoch 32/100\n",
      "141/141 [==============================] - 1s 5ms/step - loss: 0.3898 - accuracy: 0.8167 - val_loss: 0.4300 - val_accuracy: 0.7947\n",
      "Epoch 33/100\n",
      "141/141 [==============================] - 1s 5ms/step - loss: 0.3897 - accuracy: 0.8198 - val_loss: 0.4293 - val_accuracy: 0.7982\n",
      "Epoch 34/100\n",
      "141/141 [==============================] - 0s 3ms/step - loss: 0.3888 - accuracy: 0.8187 - val_loss: 0.4298 - val_accuracy: 0.7947\n",
      "Epoch 35/100\n",
      "141/141 [==============================] - 1s 4ms/step - loss: 0.3888 - accuracy: 0.8204 - val_loss: 0.4297 - val_accuracy: 0.7956\n",
      "Epoch 36/100\n",
      "141/141 [==============================] - 0s 3ms/step - loss: 0.3885 - accuracy: 0.8191 - val_loss: 0.4298 - val_accuracy: 0.7929\n",
      "Epoch 37/100\n",
      "141/141 [==============================] - 0s 3ms/step - loss: 0.3873 - accuracy: 0.8187 - val_loss: 0.4307 - val_accuracy: 0.7991\n",
      "Epoch 38/100\n",
      "141/141 [==============================] - 1s 4ms/step - loss: 0.3876 - accuracy: 0.8196 - val_loss: 0.4302 - val_accuracy: 0.7964\n",
      "Epoch 39/100\n",
      "141/141 [==============================] - 0s 3ms/step - loss: 0.3865 - accuracy: 0.8216 - val_loss: 0.4317 - val_accuracy: 0.7956\n",
      "Epoch 40/100\n",
      "141/141 [==============================] - 0s 3ms/step - loss: 0.3863 - accuracy: 0.8202 - val_loss: 0.4308 - val_accuracy: 0.7938\n",
      "Epoch 41/100\n",
      "141/141 [==============================] - 0s 3ms/step - loss: 0.3858 - accuracy: 0.8222 - val_loss: 0.4317 - val_accuracy: 0.7964\n",
      "Epoch 42/100\n",
      "141/141 [==============================] - 0s 3ms/step - loss: 0.3856 - accuracy: 0.8191 - val_loss: 0.4320 - val_accuracy: 0.7956\n",
      "Epoch 43/100\n",
      "141/141 [==============================] - 0s 3ms/step - loss: 0.3850 - accuracy: 0.8182 - val_loss: 0.4320 - val_accuracy: 0.7956\n",
      "Epoch 44/100\n",
      "141/141 [==============================] - 1s 5ms/step - loss: 0.3844 - accuracy: 0.8218 - val_loss: 0.4323 - val_accuracy: 0.7956\n",
      "Epoch 45/100\n",
      "141/141 [==============================] - 0s 3ms/step - loss: 0.3835 - accuracy: 0.8211 - val_loss: 0.4341 - val_accuracy: 0.7893\n",
      "Epoch 46/100\n",
      "141/141 [==============================] - 1s 6ms/step - loss: 0.3840 - accuracy: 0.8218 - val_loss: 0.4323 - val_accuracy: 0.7947\n",
      "Epoch 47/100\n",
      "141/141 [==============================] - 0s 3ms/step - loss: 0.3840 - accuracy: 0.8229 - val_loss: 0.4328 - val_accuracy: 0.7929\n",
      "Epoch 48/100\n",
      "141/141 [==============================] - 1s 6ms/step - loss: 0.3825 - accuracy: 0.8224 - val_loss: 0.4335 - val_accuracy: 0.7956\n",
      "Epoch 49/100\n",
      "141/141 [==============================] - 0s 3ms/step - loss: 0.3821 - accuracy: 0.8222 - val_loss: 0.4339 - val_accuracy: 0.7947\n",
      "Epoch 50/100\n",
      "141/141 [==============================] - 1s 4ms/step - loss: 0.3815 - accuracy: 0.8209 - val_loss: 0.4340 - val_accuracy: 0.7964\n",
      "Epoch 51/100\n",
      "141/141 [==============================] - 0s 3ms/step - loss: 0.3813 - accuracy: 0.8209 - val_loss: 0.4356 - val_accuracy: 0.7929\n",
      "Epoch 52/100\n",
      "141/141 [==============================] - 0s 3ms/step - loss: 0.3809 - accuracy: 0.8202 - val_loss: 0.4350 - val_accuracy: 0.7929\n",
      "Epoch 53/100\n",
      "141/141 [==============================] - 0s 3ms/step - loss: 0.3809 - accuracy: 0.8207 - val_loss: 0.4362 - val_accuracy: 0.7947\n",
      "Epoch 54/100\n",
      "141/141 [==============================] - 0s 3ms/step - loss: 0.3805 - accuracy: 0.8209 - val_loss: 0.4356 - val_accuracy: 0.7876\n",
      "Epoch 55/100\n",
      "141/141 [==============================] - 0s 3ms/step - loss: 0.3803 - accuracy: 0.8229 - val_loss: 0.4355 - val_accuracy: 0.7902\n",
      "Epoch 56/100\n",
      "141/141 [==============================] - 0s 3ms/step - loss: 0.3802 - accuracy: 0.8220 - val_loss: 0.4351 - val_accuracy: 0.7911\n",
      "Epoch 57/100\n",
      "141/141 [==============================] - 0s 3ms/step - loss: 0.3789 - accuracy: 0.8251 - val_loss: 0.4380 - val_accuracy: 0.7902\n",
      "Epoch 58/100\n",
      "141/141 [==============================] - 0s 3ms/step - loss: 0.3796 - accuracy: 0.8229 - val_loss: 0.4363 - val_accuracy: 0.7893\n",
      "Epoch 59/100\n",
      "141/141 [==============================] - 0s 3ms/step - loss: 0.3791 - accuracy: 0.8213 - val_loss: 0.4390 - val_accuracy: 0.7840\n",
      "Epoch 60/100\n",
      "141/141 [==============================] - 0s 3ms/step - loss: 0.3786 - accuracy: 0.8267 - val_loss: 0.4357 - val_accuracy: 0.7938\n",
      "Epoch 61/100\n",
      "141/141 [==============================] - 0s 2ms/step - loss: 0.3783 - accuracy: 0.8216 - val_loss: 0.4373 - val_accuracy: 0.7876\n",
      "Epoch 62/100\n",
      "141/141 [==============================] - 0s 3ms/step - loss: 0.3781 - accuracy: 0.8236 - val_loss: 0.4374 - val_accuracy: 0.7929\n",
      "Epoch 63/100\n",
      "141/141 [==============================] - 1s 4ms/step - loss: 0.3780 - accuracy: 0.8227 - val_loss: 0.4367 - val_accuracy: 0.7938\n",
      "Epoch 64/100\n",
      "141/141 [==============================] - 0s 2ms/step - loss: 0.3766 - accuracy: 0.8227 - val_loss: 0.4381 - val_accuracy: 0.7920\n",
      "Epoch 65/100\n",
      "141/141 [==============================] - 0s 2ms/step - loss: 0.3767 - accuracy: 0.8224 - val_loss: 0.4378 - val_accuracy: 0.7920\n",
      "Epoch 66/100\n",
      "141/141 [==============================] - 0s 2ms/step - loss: 0.3766 - accuracy: 0.8256 - val_loss: 0.4380 - val_accuracy: 0.7938\n",
      "Epoch 67/100\n",
      "141/141 [==============================] - 0s 3ms/step - loss: 0.3757 - accuracy: 0.8229 - val_loss: 0.4368 - val_accuracy: 0.7876\n",
      "Epoch 68/100\n",
      "141/141 [==============================] - 0s 2ms/step - loss: 0.3761 - accuracy: 0.8253 - val_loss: 0.4378 - val_accuracy: 0.7902\n",
      "Epoch 69/100\n",
      "141/141 [==============================] - 0s 2ms/step - loss: 0.3754 - accuracy: 0.8233 - val_loss: 0.4383 - val_accuracy: 0.7884\n",
      "Epoch 70/100\n",
      "141/141 [==============================] - 0s 2ms/step - loss: 0.3758 - accuracy: 0.8227 - val_loss: 0.4383 - val_accuracy: 0.7867\n",
      "Epoch 71/100\n",
      "141/141 [==============================] - 0s 2ms/step - loss: 0.3752 - accuracy: 0.8260 - val_loss: 0.4375 - val_accuracy: 0.7911\n",
      "Epoch 72/100\n",
      "141/141 [==============================] - 0s 2ms/step - loss: 0.3752 - accuracy: 0.8242 - val_loss: 0.4374 - val_accuracy: 0.7920\n",
      "Epoch 73/100\n",
      "141/141 [==============================] - 0s 3ms/step - loss: 0.3743 - accuracy: 0.8242 - val_loss: 0.4385 - val_accuracy: 0.7902\n",
      "Epoch 74/100\n",
      "141/141 [==============================] - 0s 2ms/step - loss: 0.3743 - accuracy: 0.8233 - val_loss: 0.4392 - val_accuracy: 0.7884\n",
      "Epoch 75/100\n",
      "141/141 [==============================] - 0s 2ms/step - loss: 0.3741 - accuracy: 0.8236 - val_loss: 0.4380 - val_accuracy: 0.7893\n",
      "Epoch 76/100\n",
      "141/141 [==============================] - 0s 3ms/step - loss: 0.3738 - accuracy: 0.8253 - val_loss: 0.4381 - val_accuracy: 0.7884\n",
      "Epoch 77/100\n",
      "141/141 [==============================] - 0s 2ms/step - loss: 0.3735 - accuracy: 0.8240 - val_loss: 0.4385 - val_accuracy: 0.7876\n",
      "Epoch 78/100\n",
      "141/141 [==============================] - 0s 3ms/step - loss: 0.3727 - accuracy: 0.8264 - val_loss: 0.4386 - val_accuracy: 0.7876\n",
      "Epoch 79/100\n",
      "141/141 [==============================] - 0s 3ms/step - loss: 0.3725 - accuracy: 0.8258 - val_loss: 0.4402 - val_accuracy: 0.7876\n",
      "Epoch 80/100\n",
      "141/141 [==============================] - 0s 3ms/step - loss: 0.3731 - accuracy: 0.8267 - val_loss: 0.4387 - val_accuracy: 0.7867\n",
      "Epoch 81/100\n",
      "141/141 [==============================] - 0s 3ms/step - loss: 0.3724 - accuracy: 0.8256 - val_loss: 0.4388 - val_accuracy: 0.7858\n",
      "Epoch 82/100\n",
      "141/141 [==============================] - 0s 3ms/step - loss: 0.3724 - accuracy: 0.8276 - val_loss: 0.4397 - val_accuracy: 0.7876\n",
      "Epoch 83/100\n",
      "141/141 [==============================] - 0s 3ms/step - loss: 0.3726 - accuracy: 0.8244 - val_loss: 0.4389 - val_accuracy: 0.7884\n",
      "Epoch 84/100\n",
      "141/141 [==============================] - 0s 3ms/step - loss: 0.3710 - accuracy: 0.8262 - val_loss: 0.4407 - val_accuracy: 0.7893\n",
      "Epoch 85/100\n",
      "141/141 [==============================] - 0s 3ms/step - loss: 0.3720 - accuracy: 0.8244 - val_loss: 0.4391 - val_accuracy: 0.7876\n",
      "Epoch 86/100\n",
      "141/141 [==============================] - 0s 3ms/step - loss: 0.3712 - accuracy: 0.8264 - val_loss: 0.4408 - val_accuracy: 0.7876\n",
      "Epoch 87/100\n",
      "141/141 [==============================] - 0s 3ms/step - loss: 0.3711 - accuracy: 0.8264 - val_loss: 0.4402 - val_accuracy: 0.7884\n",
      "Epoch 88/100\n",
      "141/141 [==============================] - 0s 3ms/step - loss: 0.3706 - accuracy: 0.8249 - val_loss: 0.4397 - val_accuracy: 0.7849\n",
      "Epoch 89/100\n",
      "141/141 [==============================] - 0s 3ms/step - loss: 0.3707 - accuracy: 0.8256 - val_loss: 0.4409 - val_accuracy: 0.7876\n",
      "Epoch 90/100\n",
      "141/141 [==============================] - 1s 4ms/step - loss: 0.3706 - accuracy: 0.8262 - val_loss: 0.4405 - val_accuracy: 0.7867\n",
      "Epoch 91/100\n",
      "141/141 [==============================] - 0s 3ms/step - loss: 0.3702 - accuracy: 0.8262 - val_loss: 0.4405 - val_accuracy: 0.7858\n",
      "Epoch 92/100\n",
      "141/141 [==============================] - 0s 2ms/step - loss: 0.3707 - accuracy: 0.8267 - val_loss: 0.4404 - val_accuracy: 0.7849\n",
      "Epoch 93/100\n",
      "141/141 [==============================] - 0s 2ms/step - loss: 0.3703 - accuracy: 0.8249 - val_loss: 0.4425 - val_accuracy: 0.7876\n",
      "Epoch 94/100\n",
      "141/141 [==============================] - 0s 3ms/step - loss: 0.3694 - accuracy: 0.8269 - val_loss: 0.4407 - val_accuracy: 0.7822\n",
      "Epoch 95/100\n",
      "141/141 [==============================] - 0s 2ms/step - loss: 0.3695 - accuracy: 0.8269 - val_loss: 0.4408 - val_accuracy: 0.7822\n",
      "Epoch 96/100\n",
      "141/141 [==============================] - 0s 2ms/step - loss: 0.3692 - accuracy: 0.8242 - val_loss: 0.4422 - val_accuracy: 0.7840\n",
      "Epoch 97/100\n",
      "141/141 [==============================] - 0s 2ms/step - loss: 0.3693 - accuracy: 0.8273 - val_loss: 0.4413 - val_accuracy: 0.7840\n",
      "Epoch 98/100\n",
      "141/141 [==============================] - 0s 2ms/step - loss: 0.3687 - accuracy: 0.8247 - val_loss: 0.4428 - val_accuracy: 0.7849\n",
      "Epoch 99/100\n",
      "141/141 [==============================] - 0s 2ms/step - loss: 0.3682 - accuracy: 0.8264 - val_loss: 0.4415 - val_accuracy: 0.7831\n",
      "Epoch 100/100\n",
      "141/141 [==============================] - 0s 2ms/step - loss: 0.3682 - accuracy: 0.8262 - val_loss: 0.4443 - val_accuracy: 0.7813\n"
     ]
    }
   ],
   "source": [
    "#creating a nueral network\n",
    "\n",
    "model = keras.Sequential([\n",
    "    keras.layers.Dense(20, input_shape=(26,), activation = 'relu'),\n",
    "    keras.layers.Dense(1, activation = 'sigmoid'),\n",
    "    \n",
    "])\n",
    "\n",
    "model.compile(optimizer = 'adam',\n",
    "              loss = 'binary_crossentropy',\n",
    "              metrics=['accuracy'])\n",
    "\n",
    "history= model.fit(X_train, y_train, epochs= 100, validation_split=0.2)"
   ]
  },
  {
   "cell_type": "code",
   "execution_count": 28,
   "metadata": {},
   "outputs": [
    {
     "name": "stdout",
     "output_type": "stream",
     "text": [
      "44/44 [==============================] - 1s 2ms/step - loss: 0.4490 - accuracy: 0.7889\n"
     ]
    },
    {
     "data": {
      "text/plain": [
       "[0.4489832818508148, 0.7889125943183899]"
      ]
     },
     "execution_count": 28,
     "metadata": {},
     "output_type": "execute_result"
    }
   ],
   "source": [
    "model.evaluate(X_test, y_test)"
   ]
  },
  {
   "cell_type": "code",
   "execution_count": 29,
   "metadata": {},
   "outputs": [
    {
     "name": "stdout",
     "output_type": "stream",
     "text": [
      "44/44 [==============================] - 0s 2ms/step\n"
     ]
    },
    {
     "data": {
      "text/plain": [
       "array([[0.1522174 ],\n",
       "       [0.38947836],\n",
       "       [0.01074737],\n",
       "       [0.80201876],\n",
       "       [0.52396697]], dtype=float32)"
      ]
     },
     "execution_count": 29,
     "metadata": {},
     "output_type": "execute_result"
    }
   ],
   "source": [
    "#predict\n",
    "yp = model.predict(X_test)\n",
    "yp[:5]"
   ]
  },
  {
   "cell_type": "code",
   "execution_count": 30,
   "metadata": {},
   "outputs": [
    {
     "data": {
      "text/plain": [
       "2660    0\n",
       "744     0\n",
       "5579    1\n",
       "64      1\n",
       "3287    1\n",
       "Name: Churn, dtype: int64"
      ]
     },
     "execution_count": 30,
     "metadata": {},
     "output_type": "execute_result"
    }
   ],
   "source": [
    "y_test[:5]"
   ]
  },
  {
   "cell_type": "code",
   "execution_count": 31,
   "metadata": {},
   "outputs": [],
   "source": [
    "y_pred = []\n",
    "\n",
    "for element in yp:\n",
    "    if element > 0.5:\n",
    "        y_pred.append(1)\n",
    "    else:\n",
    "        y_pred.append(0)"
   ]
  },
  {
   "cell_type": "code",
   "execution_count": 32,
   "metadata": {},
   "outputs": [
    {
     "data": {
      "text/plain": [
       "[0, 0, 0, 1, 1]"
      ]
     },
     "execution_count": 32,
     "metadata": {},
     "output_type": "execute_result"
    }
   ],
   "source": [
    "y_pred[:5]"
   ]
  },
  {
   "cell_type": "code",
   "execution_count": 33,
   "metadata": {},
   "outputs": [
    {
     "name": "stdout",
     "output_type": "stream",
     "text": [
      "44/44 [==============================] - 0s 4ms/step - loss: 0.4490 - accuracy: 0.7889\n",
      "Test Accuracy: 0.79\n"
     ]
    }
   ],
   "source": [
    "# Evaluating the model\n",
    "loss, accuracy = model.evaluate(X_test, y_test)\n",
    "print(f\"Test Accuracy: {accuracy:.2f}\")"
   ]
  },
  {
   "cell_type": "markdown",
   "metadata": {},
   "source": [
    "#### Visualizing the Training History \n",
    "You can visualize the training and validation accuracy/loss to understand the model's performance over epochs:\n",
    "\n"
   ]
  },
  {
   "cell_type": "code",
   "execution_count": 49,
   "metadata": {},
   "outputs": [
    {
     "data": {
      "image/png": "[encoded data removed]",
      "text/plain": [
       "<Figure size 1200x600 with 2 Axes>"
      ]
     },
     "metadata": {},
     "output_type": "display_data"
    }
   ],
   "source": [
    "import matplotlib.pyplot as plt\n",
    "import seaborn as sns\n",
    "\n",
    "# Set the seaborn style for better visuals\n",
    "sns.set(style=\"darkgrid\")\n",
    "\n",
    "# Visualizing the training and validation accuracy using seaborn\n",
    "plt.figure(figsize=(12, 6))\n",
    "\n",
    "# Accuracy plot using seaborn\n",
    "plt.subplot(1, 2, 1)\n",
    "sns.lineplot(x=range(1, 101), y=history.history['accuracy'], label='Train Accuracy', color='blue')\n",
    "sns.lineplot(x=range(1, 101), y=history.history['val_accuracy'], label='Validation Accuracy', color='orange')\n",
    "plt.xlabel('Epochs')\n",
    "plt.ylabel('Accuracy')\n",
    "plt.title('Training and Validation Accuracy')\n",
    "plt.legend()\n",
    "\n",
    "# Loss plot using seaborn\n",
    "plt.subplot(1, 2, 2)\n",
    "sns.lineplot(x=range(1, 101), y=history.history['loss'], label='Train Loss', color='blue')\n",
    "sns.lineplot(x=range(1, 101), y=history.history['val_loss'], label='Validation Loss', color='orange')\n",
    "plt.xlabel('Epochs')\n",
    "plt.ylabel('Loss')\n",
    "plt.title('Training and Validation Loss')\n",
    "plt.legend()\n",
    "\n",
    "# Show the plots\n",
    "plt.tight_layout()\n",
    "plt.show()\n"
   ]
  },
  {
   "cell_type": "code",
   "execution_count": 34,
   "metadata": {},
   "outputs": [
    {
     "name": "stdout",
     "output_type": "stream",
     "text": [
      "              precision    recall  f1-score   support\n",
      "\n",
      "           0       0.82      0.90      0.86       999\n",
      "           1       0.68      0.51      0.58       408\n",
      "\n",
      "    accuracy                           0.79      1407\n",
      "   macro avg       0.75      0.71      0.72      1407\n",
      "weighted avg       0.78      0.79      0.78      1407\n",
      "\n"
     ]
    }
   ],
   "source": [
    "#Classification report\n",
    "\n",
    "from sklearn.metrics import confusion_matrix,classification_report\n",
    "\n",
    "print(classification_report(y_test,y_pred))"
   ]
  },
  {
   "cell_type": "code",
   "execution_count": 35,
   "metadata": {},
   "outputs": [
    {
     "name": "stdout",
     "output_type": "stream",
     "text": [
      "tf.Tensor(\n",
      "[[902  97]\n",
      " [200 208]], shape=(2, 2), dtype=int32)\n"
     ]
    },
    {
     "data": {
      "image/png": "[encoded data removed]",
      "text/plain": [
       "<Figure size 1000x700 with 2 Axes>"
      ]
     },
     "metadata": {},
     "output_type": "display_data"
    }
   ],
   "source": [
    "import seaborn as sn \n",
    "cm = tf.math.confusion_matrix(labels=y_test, predictions= y_pred)\n",
    "\n",
    "\n",
    "plt.figure(figsize=(10,7))\n",
    "sn.heatmap(cm, annot=True, fmt = 'd')\n",
    "plt.xlabel('Predicted')\n",
    "plt.ylabel('Truth')\n",
    "\n",
    "print(cm)\n"
   ]
  },
  {
   "cell_type": "markdown",
   "metadata": {},
   "source": [
    "##### Accuracy"
   ]
  },
  {
   "cell_type": "code",
   "execution_count": 36,
   "metadata": {},
   "outputs": [
    {
     "data": {
      "text/plain": [
       "0.78"
      ]
     },
     "execution_count": 36,
     "metadata": {},
     "output_type": "execute_result"
    }
   ],
   "source": [
    "round((886+216)/(886+216+113+192),2)"
   ]
  },
  {
   "cell_type": "markdown",
   "metadata": {},
   "source": [
    "##### Precision for the 0 class. i.e. Precision for customers who did not churn"
   ]
  },
  {
   "cell_type": "code",
   "execution_count": 37,
   "metadata": {},
   "outputs": [
    {
     "data": {
      "text/plain": [
       "0.82"
      ]
     },
     "execution_count": 37,
     "metadata": {},
     "output_type": "execute_result"
    }
   ],
   "source": [
    "round(886/(886+192),2)"
   ]
  },
  {
   "cell_type": "markdown",
   "metadata": {},
   "source": [
    "##### Precision for 1 class. i.e. Precision for customers who did acctually did churn\n"
   ]
  },
  {
   "cell_type": "code",
   "execution_count": 38,
   "metadata": {},
   "outputs": [
    {
     "data": {
      "text/plain": [
       "0.66"
      ]
     },
     "execution_count": 38,
     "metadata": {},
     "output_type": "execute_result"
    }
   ],
   "source": [
    "round(216/(216+113),2)"
   ]
  },
  {
   "cell_type": "markdown",
   "metadata": {},
   "source": [
    "##### Recall for 0 class"
   ]
  },
  {
   "cell_type": "code",
   "execution_count": 39,
   "metadata": {},
   "outputs": [
    {
     "data": {
      "text/plain": [
       "0.89"
      ]
     },
     "execution_count": 39,
     "metadata": {},
     "output_type": "execute_result"
    }
   ],
   "source": [
    "round(886/(886+113),2)"
   ]
  },
  {
   "cell_type": "markdown",
   "metadata": {},
   "source": [
    "##### Recall for 1 class"
   ]
  },
  {
   "cell_type": "code",
   "execution_count": 40,
   "metadata": {},
   "outputs": [
    {
     "data": {
      "text/plain": [
       "0.53"
      ]
     },
     "execution_count": 40,
     "metadata": {},
     "output_type": "execute_result"
    }
   ],
   "source": [
    "round(216/(216+192),2)"
   ]
  },
  {
   "cell_type": "markdown",
   "metadata": {},
   "source": [
    "Saving the model"
   ]
  },
  {
   "cell_type": "code",
   "execution_count": 41,
   "metadata": {},
   "outputs": [],
   "source": [
    "import pickle"
   ]
  },
  {
   "cell_type": "code",
   "execution_count": 42,
   "metadata": {},
   "outputs": [],
   "source": [
    "filename = 'trained_model.sav'\n",
    "pickle.dump(yp, open(filename, 'wb'))"
   ]
  },
  {
   "cell_type": "code",
   "execution_count": 43,
   "metadata": {},
   "outputs": [],
   "source": [
    "#loading the saved model\n",
    "loaded_model = pickle.load(open(\"trained_model.sav\", 'rb'))"
   ]
  }
 ],
 "metadata": {
  "kernelspec": {
   "display_name": "Python (learn-env)",
   "language": "python",
   "name": "learn-env"
  },
  "language_info": {
   "codemirror_mode": {
    "name": "ipython",
    "version": 3
   },
   "file_extension": ".py",
   "mimetype": "text/x-python",
   "name": "python",
   "nbconvert_exporter": "python",
   "pygments_lexer": "ipython3",
   "version": "3.10.12"
  }
 },
 "nbformat": 4,
 "nbformat_minor": 2
}
